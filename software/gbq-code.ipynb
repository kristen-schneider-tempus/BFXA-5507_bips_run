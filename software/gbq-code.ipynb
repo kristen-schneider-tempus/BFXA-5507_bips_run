{
 "cells": [
  {
   "cell_type": "code",
   "execution_count": null,
   "metadata": {},
   "outputs": [],
   "source": [
    "from google.cloud import bigquery\n",
    "import warnings\n",
    "\n",
    "def generate_bigquery_client(project):\n",
    "\n",
    "    with warnings.catch_warnings():\n",
    "        warnings.simplefilter('ignore')\n",
    "        client = bigquery.Client(project)\n",
    "    return client\n",
    "\n",
    "bqclient = generate_bigquery_client(\"tl-zbxsrcj1dc7fc02q7htg\")\n",
    "aids = [\"insert\",\"list\",\"of\",\"analysis\",\"ids\",\"here\"]\n",
    "\n",
    "fastq_sql = f\"\"\"SELECT distinct orderhub_id,a.analyte,a.assay,match_type,a.id as analysis_id,classification,fastq_url \\\n",
    "        FROM `tl-zbxsrcj1dc7fc02q7htg.src_bioinformatics.analysis` a \\\n",
    "        JOIN `tl-zbxsrcj1dc7fc02q7htg.src_bioinformatics.analysis_isolate` ai on a.id = ai.analysis_id \\\n",
    "        where ai.analysis_id in {tuple(aids)}\"\"\"\n",
    "\n",
    "bqclient.query(fastq_sql).to_dataframe()"
   ]
  }
 ],
 "metadata": {
  "kernelspec": {
   "display_name": "Python 3",
   "language": "python",
   "name": "python3"
  },
  "language_info": {
   "codemirror_mode": {
    "name": "ipython",
    "version": 3
   },
   "file_extension": ".py",
   "mimetype": "text/x-python",
   "name": "python",
   "nbconvert_exporter": "python",
   "pygments_lexer": "ipython3",
   "version": "3.11.11"
  }
 },
 "nbformat": 4,
 "nbformat_minor": 2
}
